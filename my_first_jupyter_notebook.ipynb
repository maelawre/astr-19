{
 "cells": [
  {
   "cell_type": "markdown",
   "id": "b4f7b85f-3ac2-4951-8cf4-0340e0424766",
   "metadata": {},
   "source": [
    "# My first Jupyter Notebook\n",
    " This is my **first** *Jupyter Notebook*"
   ]
  },
  {
   "cell_type": "code",
   "execution_count": 2,
   "id": "bc8896ba-7de7-4e4a-bd73-799fee4ac4bf",
   "metadata": {},
   "outputs": [],
   "source": [
    "import numpy as np"
   ]
  },
  {
   "cell_type": "code",
   "execution_count": 3,
   "id": "a0bd506e-e4ea-4146-bf56-f779547d40cb",
   "metadata": {},
   "outputs": [],
   "source": [
    "n = 20 #define an integer\n",
    "x = np.arange(n, dtype=float) #define an array from 0 - 19"
   ]
  },
  {
   "cell_type": "code",
   "execution_count": 4,
   "id": "fe1c0d26-55a9-49eb-b637-f425ec09f529",
   "metadata": {},
   "outputs": [
    {
     "name": "stdout",
     "output_type": "stream",
     "text": [
      "[ 0.  1.  2.  3.  4.  5.  6.  7.  8.  9. 10. 11. 12. 13. 14. 15. 16. 17.\n",
      " 18. 19.]\n"
     ]
    }
   ],
   "source": [
    "print(x)"
   ]
  },
  {
   "cell_type": "code",
   "execution_count": 17,
   "id": "04be4533-318b-4862-af86-59f942e61792",
   "metadata": {},
   "outputs": [],
   "source": [
    "n = 15 #define an integer\n",
    "x = np.arange(n, dtype=float) #define an array from 0 - 19"
   ]
  },
  {
   "cell_type": "code",
   "execution_count": 6,
   "id": "bb7e5918-066f-4007-b535-57e94643ad97",
   "metadata": {},
   "outputs": [],
   "source": [
    "a = \"ASTR 19 is still awesome\""
   ]
  },
  {
   "cell_type": "code",
   "execution_count": 7,
   "id": "a0109187-3ade-4481-8ff7-918b5b6218db",
   "metadata": {},
   "outputs": [],
   "source": [
    "n = 10\n",
    "x = np.arange(n, dtype=float) "
   ]
  },
  {
   "cell_type": "code",
   "execution_count": 8,
   "id": "5322630e-11ee-4d3d-803f-90b7cf76c9bb",
   "metadata": {},
   "outputs": [
    {
     "name": "stdout",
     "output_type": "stream",
     "text": [
      "[0. 1. 2. 3. 4. 5. 6. 7. 8. 9.]\n"
     ]
    }
   ],
   "source": [
    "print(x)"
   ]
  },
  {
   "cell_type": "markdown",
   "id": "117aeac4-113a-4048-bad7-f010498b5e7b",
   "metadata": {},
   "source": [
    "be mindful of the execution order of your cells. if you run them out of order it can change your results and cause bugs"
   ]
  },
  {
   "cell_type": "code",
   "execution_count": null,
   "id": "de285524-df6d-4126-bbcb-fbd83a625180",
   "metadata": {},
   "outputs": [],
   "source": []
  }
 ],
 "metadata": {
  "kernelspec": {
   "display_name": "Python [conda env:base] *",
   "language": "python",
   "name": "conda-base-py"
  },
  "language_info": {
   "codemirror_mode": {
    "name": "ipython",
    "version": 3
   },
   "file_extension": ".py",
   "mimetype": "text/x-python",
   "name": "python",
   "nbconvert_exporter": "python",
   "pygments_lexer": "ipython3",
   "version": "3.12.7"
  }
 },
 "nbformat": 4,
 "nbformat_minor": 5
}
