sin_values = compute_sin(x)
cos_values = compute_cos(x)

fig, axs = plt.subplots(1, 2, figsize=(10, 4))

axs[0].plot(x, sin_values)
axs[0].set_title("sin(x)")
axs[0].set_xlabel("x")
axs[0].set_ylabel("sin(x)")
axs[0].grid(True)

axs[1].plot(x, cos_values)
axs[1].set_title("cos(x)")
axs[1].set_xlabel("x")
axs[1].set_ylabel("cos(x)")
axs[1].grid(True)

plt.tight_layout()
plt.savefig("sin_cos_plot.pdf")
plt.show()
