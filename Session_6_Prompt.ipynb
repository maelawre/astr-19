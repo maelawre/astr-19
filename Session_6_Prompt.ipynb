{
 "cells": [
  {
   "cell_type": "code",
   "execution_count": 14,
   "id": "f4eb65ac-7d0d-454d-b585-6f009b228ed4",
   "metadata": {},
   "outputs": [],
   "source": [
    "import numpy as np\n",
    "from tabulate import tabulate\n"
   ]
  },
  {
   "cell_type": "code",
   "execution_count": 4,
   "id": "cac400c2-7f27-4cae-ba79-5c4a82d27910",
   "metadata": {},
   "outputs": [],
   "source": [
    "def sine(x):\n",
    "    return np.sin(x)"
   ]
  },
  {
   "cell_type": "code",
   "execution_count": 12,
   "id": "f88a9653-6ae8-4d37-807e-bcf4673c192e",
   "metadata": {},
   "outputs": [],
   "source": [
    "def cosine(x):\n",
    "    return np.cos(x)"
   ]
  },
  {
   "cell_type": "markdown",
   "id": "2dc2b5be-f0e4-40ed-b875-68d72a0617c6",
   "metadata": {},
   "source": [
    "The function sine returns the sine of x. The function cosine returns the cosine of x. "
   ]
  },
  {
   "cell_type": "code",
   "execution_count": 22,
   "id": "dba27221-d2ec-43c8-9285-7f8fdd7750a8",
   "metadata": {},
   "outputs": [],
   "source": [
    "x = (np.linspace(0, 2 * (np.pi), 1000))\n",
    "y = sine(x)\n",
    "z = cosine(x)\n",
    "\n",
    "tableData = [(a,b,c) for a, b, c in zip(x,y,z)]\n",
    "tableHeaders = [\"x\", \"Sin(x)\", \"Cosin(x)\"]\n",
    "pythonTable = tabulate(tableData, tablefmt=\"grid\", headers=tableHeaders,\n",
    "\tfloatfmt=\".3f\")\n"
   ]
  },
  {
   "cell_type": "code",
   "execution_count": 24,
   "id": "a81587bc-7032-488a-8d87-7131ac29619b",
   "metadata": {},
   "outputs": [
    {
     "name": "stdout",
     "output_type": "stream",
     "text": [
      "    0.0000     0.0000     1.0000\n",
      "    0.0063     0.0063     1.0000\n",
      "    0.0126     0.0126     0.9999\n",
      "    0.0189     0.0189     0.9998\n",
      "    0.0252     0.0252     0.9997\n",
      "    0.0314     0.0314     0.9995\n",
      "    0.0377     0.0377     0.9993\n",
      "    0.0440     0.0440     0.9990\n",
      "    0.0503     0.0503     0.9987\n",
      "    0.0566     0.0566     0.9984\n"
     ]
    }
   ],
   "source": [
    "for i in range(10): \n",
    "    print(f\"{x[i]:10.4f} {y[i]:10.4f} {z[i]:10.4f}\")"
   ]
  },
  {
   "cell_type": "code",
   "execution_count": null,
   "id": "2635ac14-32f5-46e7-a0e1-db1f43cba195",
   "metadata": {},
   "outputs": [],
   "source": []
  }
 ],
 "metadata": {
  "kernelspec": {
   "display_name": "Python [conda env:base] *",
   "language": "python",
   "name": "conda-base-py"
  },
  "language_info": {
   "codemirror_mode": {
    "name": "ipython",
    "version": 3
   },
   "file_extension": ".py",
   "mimetype": "text/x-python",
   "name": "python",
   "nbconvert_exporter": "python",
   "pygments_lexer": "ipython3",
   "version": "3.12.7"
  }
 },
 "nbformat": 4,
 "nbformat_minor": 5
}
